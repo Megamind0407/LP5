{
  "cells": [
    {
      "cell_type": "code",
      "execution_count": 1,
      "metadata": {
        "id": "3ODOMCTRGDgn"
      },
      "outputs": [],
      "source": [
        "import pandas as pd\n",
        "import numpy as np\n",
        "import matplotlib.pyplot as plt\n",
        "import tensorflow as tf\n",
        "from tensorflow import keras\n",
        "from tensorflow.keras import layers,models"
      ]
    },
    {
      "cell_type": "code",
      "execution_count": 2,
      "metadata": {
        "colab": {
          "base_uri": "https://localhost:8080/"
        },
        "id": "ssqExWIVJH-b",
        "outputId": "758e41e1-b2cf-45f1-e502-4cffbc8f5302"
      },
      "outputs": [
        {
          "output_type": "stream",
          "name": "stdout",
          "text": [
            "Downloading data from https://storage.googleapis.com/tensorflow/tf-keras-datasets/imdb.npz\n",
            "\u001b[1m17464789/17464789\u001b[0m \u001b[32m━━━━━━━━━━━━━━━━━━━━\u001b[0m\u001b[37m\u001b[0m \u001b[1m0s\u001b[0m 0us/step\n"
          ]
        }
      ],
      "source": [
        "# Load IMDB dataset\n",
        "imdb = keras.datasets.imdb\n",
        "(train_data, train_labels), (test_data, test_labels) = imdb.load_data(num_words=10000)"
      ]
    },
    {
      "cell_type": "code",
      "execution_count": 3,
      "metadata": {
        "colab": {
          "base_uri": "https://localhost:8080/"
        },
        "id": "M3xPHTwZJ7hL",
        "outputId": "50cc0336-f546-4ce4-c8ff-3d1d43844107"
      },
      "outputs": [
        {
          "output_type": "stream",
          "name": "stdout",
          "text": [
            "Downloading data from https://storage.googleapis.com/tensorflow/tf-keras-datasets/imdb_word_index.json\n",
            "\u001b[1m1641221/1641221\u001b[0m \u001b[32m━━━━━━━━━━━━━━━━━━━━\u001b[0m\u001b[37m\u001b[0m \u001b[1m0s\u001b[0m 0us/step\n",
            "? this film was just brilliant casting location scenery story direction everyone's really suited the part they played and you could just imagine being there robert ? is an amazing actor and now the same being director ? father came from the same scottish island as myself so i loved the fact there was a real connection with this film the witty remarks throughout the film were great it was just brilliant so much that i bought the film as soon as it was released for ? and would recommend it to everyone to watch and the fly fishing was amazing really cried at the end it was so sad and you know what they say if you cry at a film it must have been good and this definitely was also ? to the two little boy's that played the ? of norman and paul they were just brilliant children are often left out of the ? list i think because the stars that play them all grown up are such a big profile for the whole film but these children are amazing and should be praised for what they have done don't you think the whole story was so lovely because it was true and was someone's life after all that was shared with us all\n"
          ]
        }
      ],
      "source": [
        "word_index = imdb.get_word_index()  # Load word-to-index dictionary\n",
        "reverse_word_index = {value: key for key, value in word_index.items()}\n",
        "decoded_review = ' '.join([reverse_word_index.get(i - 3, '?') for i in train_data[0]])\n",
        "print(decoded_review)\n"
      ]
    },
    {
      "cell_type": "code",
      "execution_count": 4,
      "metadata": {
        "id": "eDD5dq7XLCv6"
      },
      "outputs": [],
      "source": [
        "\n",
        "def vectorize_sequences(sequences, dimension=10000):\n",
        "    results = np.zeros((len(sequences), dimension))  # Creates an all-zero matrix of shape (num_samples, 10000)\n",
        "    for i, sequence in enumerate(sequences):\n",
        "        results[i, sequence] = 1  # Sets specific indices to 1 (one-hot encoding)\n",
        "    return results\n",
        "\n",
        "# Vectorize training and test data\n",
        "X_train = vectorize_sequences(train_data)\n",
        "X_test = vectorize_sequences(test_data)\n"
      ]
    },
    {
      "cell_type": "code",
      "execution_count": 5,
      "metadata": {
        "colab": {
          "base_uri": "https://localhost:8080/"
        },
        "id": "yzyya9bGLotR",
        "outputId": "03f43016-8ac8-4ad7-875a-176a61290a29"
      },
      "outputs": [
        {
          "output_type": "execute_result",
          "data": {
            "text/plain": [
              "array([0., 1., 1., ..., 0., 0., 0.])"
            ]
          },
          "metadata": {},
          "execution_count": 5
        }
      ],
      "source": [
        "X_train[0]"
      ]
    },
    {
      "cell_type": "code",
      "execution_count": 6,
      "metadata": {
        "colab": {
          "base_uri": "https://localhost:8080/"
        },
        "id": "7wmJwid9LsRI",
        "outputId": "f50af39c-db5b-4269-8834-9ae075241811"
      },
      "outputs": [
        {
          "output_type": "execute_result",
          "data": {
            "text/plain": [
              "(25000, 10000)"
            ]
          },
          "metadata": {},
          "execution_count": 6
        }
      ],
      "source": [
        "X_train.shape"
      ]
    },
    {
      "cell_type": "code",
      "execution_count": 7,
      "metadata": {
        "id": "YOdWfHVdL8_e"
      },
      "outputs": [],
      "source": [
        "\n",
        "# Convert labels to NumPy arrays of type float32\n",
        "y_train = np.asarray(train_labels).astype('float32')\n",
        "y_test = np.asarray(test_labels).astype('float32')"
      ]
    },
    {
      "cell_type": "code",
      "execution_count": 8,
      "metadata": {
        "colab": {
          "base_uri": "https://localhost:8080/"
        },
        "collapsed": true,
        "id": "Z8zYhIAYM5I1",
        "outputId": "85a28133-d870-4dce-e28b-dba9238162ce"
      },
      "outputs": [
        {
          "output_type": "stream",
          "name": "stderr",
          "text": [
            "/usr/local/lib/python3.11/dist-packages/keras/src/layers/core/dense.py:87: UserWarning: Do not pass an `input_shape`/`input_dim` argument to a layer. When using Sequential models, prefer using an `Input(shape)` object as the first layer in the model instead.\n",
            "  super().__init__(activity_regularizer=activity_regularizer, **kwargs)\n"
          ]
        }
      ],
      "source": [
        "# Define the model\n",
        "model = models.Sequential()\n",
        "\n",
        "# Input Layer + First Hidden Layer (16 neurons, ReLU activation)\n",
        "model.add(layers.Dense(16, activation='relu', input_shape=(10000,)))\n",
        "\n",
        "# Second Hidden Layer (16 neurons, ReLU activation)\n",
        "model.add(layers.Dense(16, activation='relu'))\n",
        "\n",
        "# Output Layer (1 neuron, Sigmoid activation for binary classification)\n",
        "model.add(layers.Dense(1, activation='sigmoid'))"
      ]
    },
    {
      "cell_type": "code",
      "execution_count": 9,
      "metadata": {
        "id": "dVIMbzAMN6Pg"
      },
      "outputs": [],
      "source": [
        "from tensorflow.keras import optimizers, losses, metrics\n",
        "# Compile the model\n",
        "model.compile(\n",
        "    optimizer=optimizers.RMSprop(learning_rate=0.001),  # RMSprop optimizer with a learning rate of 0.001\n",
        "    loss=losses.binary_crossentropy,  # Binary cross-entropy loss for binary classification\n",
        "    metrics=[metrics.binary_accuracy]  # Track binary accuracy during training\n",
        ")"
      ]
    },
    {
      "cell_type": "code",
      "execution_count": 10,
      "metadata": {
        "id": "P3dTIIVnOZiI"
      },
      "outputs": [],
      "source": [
        "# Split the first 10,000 samples for validation\n",
        "X_val = X_train[:10000]   # First 10,000 samples for validation\n",
        "partial_X_train = X_train[10000:]  # Remaining samples for training\n",
        "\n",
        "# Split labels accordingly\n",
        "y_val = y_train[:10000]   # First 10,000 labels for validation\n",
        "partial_y_train = y_train[10000:]  # Remaining labels for training\n"
      ]
    },
    {
      "cell_type": "code",
      "execution_count": 11,
      "metadata": {
        "colab": {
          "base_uri": "https://localhost:8080/"
        },
        "id": "Ou5JWOIpOfT-",
        "outputId": "b2d9cf47-f4c5-473c-dc9f-55dbec52b081"
      },
      "outputs": [
        {
          "output_type": "stream",
          "name": "stdout",
          "text": [
            "Epoch 1/20\n",
            "\u001b[1m30/30\u001b[0m \u001b[32m━━━━━━━━━━━━━━━━━━━━\u001b[0m\u001b[37m\u001b[0m \u001b[1m4s\u001b[0m 86ms/step - binary_accuracy: 0.6995 - loss: 0.5904 - val_binary_accuracy: 0.8708 - val_loss: 0.3805\n",
            "Epoch 2/20\n",
            "\u001b[1m30/30\u001b[0m \u001b[32m━━━━━━━━━━━━━━━━━━━━\u001b[0m\u001b[37m\u001b[0m \u001b[1m1s\u001b[0m 37ms/step - binary_accuracy: 0.8938 - loss: 0.3256 - val_binary_accuracy: 0.8849 - val_loss: 0.3035\n",
            "Epoch 3/20\n",
            "\u001b[1m30/30\u001b[0m \u001b[32m━━━━━━━━━━━━━━━━━━━━\u001b[0m\u001b[37m\u001b[0m \u001b[1m1s\u001b[0m 33ms/step - binary_accuracy: 0.9245 - loss: 0.2344 - val_binary_accuracy: 0.8897 - val_loss: 0.2801\n",
            "Epoch 4/20\n",
            "\u001b[1m30/30\u001b[0m \u001b[32m━━━━━━━━━━━━━━━━━━━━\u001b[0m\u001b[37m\u001b[0m \u001b[1m1s\u001b[0m 33ms/step - binary_accuracy: 0.9359 - loss: 0.1905 - val_binary_accuracy: 0.8564 - val_loss: 0.3470\n",
            "Epoch 5/20\n",
            "\u001b[1m30/30\u001b[0m \u001b[32m━━━━━━━━━━━━━━━━━━━━\u001b[0m\u001b[37m\u001b[0m \u001b[1m1s\u001b[0m 34ms/step - binary_accuracy: 0.9465 - loss: 0.1631 - val_binary_accuracy: 0.8841 - val_loss: 0.2797\n",
            "Epoch 6/20\n",
            "\u001b[1m30/30\u001b[0m \u001b[32m━━━━━━━━━━━━━━━━━━━━\u001b[0m\u001b[37m\u001b[0m \u001b[1m1s\u001b[0m 34ms/step - binary_accuracy: 0.9601 - loss: 0.1289 - val_binary_accuracy: 0.8838 - val_loss: 0.3034\n",
            "Epoch 7/20\n",
            "\u001b[1m30/30\u001b[0m \u001b[32m━━━━━━━━━━━━━━━━━━━━\u001b[0m\u001b[37m\u001b[0m \u001b[1m1s\u001b[0m 34ms/step - binary_accuracy: 0.9667 - loss: 0.1094 - val_binary_accuracy: 0.8816 - val_loss: 0.3028\n",
            "Epoch 8/20\n",
            "\u001b[1m30/30\u001b[0m \u001b[32m━━━━━━━━━━━━━━━━━━━━\u001b[0m\u001b[37m\u001b[0m \u001b[1m1s\u001b[0m 36ms/step - binary_accuracy: 0.9717 - loss: 0.0958 - val_binary_accuracy: 0.8850 - val_loss: 0.3180\n",
            "Epoch 9/20\n",
            "\u001b[1m30/30\u001b[0m \u001b[32m━━━━━━━━━━━━━━━━━━━━\u001b[0m\u001b[37m\u001b[0m \u001b[1m1s\u001b[0m 32ms/step - binary_accuracy: 0.9785 - loss: 0.0788 - val_binary_accuracy: 0.8807 - val_loss: 0.3317\n",
            "Epoch 10/20\n",
            "\u001b[1m30/30\u001b[0m \u001b[32m━━━━━━━━━━━━━━━━━━━━\u001b[0m\u001b[37m\u001b[0m \u001b[1m2s\u001b[0m 49ms/step - binary_accuracy: 0.9875 - loss: 0.0601 - val_binary_accuracy: 0.8815 - val_loss: 0.3590\n",
            "Epoch 11/20\n",
            "\u001b[1m30/30\u001b[0m \u001b[32m━━━━━━━━━━━━━━━━━━━━\u001b[0m\u001b[37m\u001b[0m \u001b[1m2s\u001b[0m 35ms/step - binary_accuracy: 0.9873 - loss: 0.0563 - val_binary_accuracy: 0.8711 - val_loss: 0.3892\n",
            "Epoch 12/20\n",
            "\u001b[1m30/30\u001b[0m \u001b[32m━━━━━━━━━━━━━━━━━━━━\u001b[0m\u001b[37m\u001b[0m \u001b[1m1s\u001b[0m 35ms/step - binary_accuracy: 0.9906 - loss: 0.0458 - val_binary_accuracy: 0.8523 - val_loss: 0.4962\n",
            "Epoch 13/20\n",
            "\u001b[1m30/30\u001b[0m \u001b[32m━━━━━━━━━━━━━━━━━━━━\u001b[0m\u001b[37m\u001b[0m \u001b[1m1s\u001b[0m 34ms/step - binary_accuracy: 0.9904 - loss: 0.0443 - val_binary_accuracy: 0.8734 - val_loss: 0.4196\n",
            "Epoch 14/20\n",
            "\u001b[1m30/30\u001b[0m \u001b[32m━━━━━━━━━━━━━━━━━━━━\u001b[0m\u001b[37m\u001b[0m \u001b[1m1s\u001b[0m 36ms/step - binary_accuracy: 0.9946 - loss: 0.0327 - val_binary_accuracy: 0.8665 - val_loss: 0.4621\n",
            "Epoch 15/20\n",
            "\u001b[1m30/30\u001b[0m \u001b[32m━━━━━━━━━━━━━━━━━━━━\u001b[0m\u001b[37m\u001b[0m \u001b[1m1s\u001b[0m 34ms/step - binary_accuracy: 0.9954 - loss: 0.0272 - val_binary_accuracy: 0.8713 - val_loss: 0.4658\n",
            "Epoch 16/20\n",
            "\u001b[1m30/30\u001b[0m \u001b[32m━━━━━━━━━━━━━━━━━━━━\u001b[0m\u001b[37m\u001b[0m \u001b[1m1s\u001b[0m 35ms/step - binary_accuracy: 0.9961 - loss: 0.0237 - val_binary_accuracy: 0.8689 - val_loss: 0.4952\n",
            "Epoch 17/20\n",
            "\u001b[1m30/30\u001b[0m \u001b[32m━━━━━━━━━━━━━━━━━━━━\u001b[0m\u001b[37m\u001b[0m \u001b[1m1s\u001b[0m 35ms/step - binary_accuracy: 0.9968 - loss: 0.0196 - val_binary_accuracy: 0.8744 - val_loss: 0.5025\n",
            "Epoch 18/20\n",
            "\u001b[1m30/30\u001b[0m \u001b[32m━━━━━━━━━━━━━━━━━━━━\u001b[0m\u001b[37m\u001b[0m \u001b[1m1s\u001b[0m 36ms/step - binary_accuracy: 0.9992 - loss: 0.0131 - val_binary_accuracy: 0.8691 - val_loss: 0.5297\n",
            "Epoch 19/20\n",
            "\u001b[1m30/30\u001b[0m \u001b[32m━━━━━━━━━━━━━━━━━━━━\u001b[0m\u001b[37m\u001b[0m \u001b[1m2s\u001b[0m 52ms/step - binary_accuracy: 0.9994 - loss: 0.0115 - val_binary_accuracy: 0.8681 - val_loss: 0.5508\n",
            "Epoch 20/20\n",
            "\u001b[1m30/30\u001b[0m \u001b[32m━━━━━━━━━━━━━━━━━━━━\u001b[0m\u001b[37m\u001b[0m \u001b[1m2s\u001b[0m 59ms/step - binary_accuracy: 0.9997 - loss: 0.0090 - val_binary_accuracy: 0.8470 - val_loss: 0.6928\n"
          ]
        }
      ],
      "source": [
        "# Train the model\n",
        "history = model.fit(\n",
        "    partial_X_train,  # Training data (excluding validation set)\n",
        "    partial_y_train,  # Training labels\n",
        "    epochs=20,  # Train for 20 epochs\n",
        "    batch_size=512,  # Process 512 samples per batch\n",
        "    validation_data=(X_val, y_val)  # Validate using the validation set\n",
        ")"
      ]
    },
    {
      "cell_type": "code",
      "execution_count": 12,
      "metadata": {
        "colab": {
          "base_uri": "https://localhost:8080/"
        },
        "id": "iTCtKWrOOpMQ",
        "outputId": "1d1babb6-a192-4c7e-c05c-1dc70759b8fd"
      },
      "outputs": [
        {
          "output_type": "stream",
          "name": "stdout",
          "text": [
            "dict_keys(['binary_accuracy', 'loss', 'val_binary_accuracy', 'val_loss'])\n"
          ]
        }
      ],
      "source": [
        "# Extract history dictionary\n",
        "history_dict = history.history\n",
        "# Display available keys in history\n",
        "print(history_dict.keys())"
      ]
    },
    {
      "cell_type": "code",
      "execution_count": 13,
      "metadata": {
        "colab": {
          "base_uri": "https://localhost:8080/",
          "height": 472
        },
        "id": "fzU2qBRRPEZx",
        "outputId": "8b3f10bc-2915-4beb-d32a-07de9c9811f1"
      },
      "outputs": [
        {
          "output_type": "display_data",
          "data": {
            "text/plain": [
              "<Figure size 640x480 with 1 Axes>"
            ],
            "image/png": "[encoded data removed]"
          },
          "metadata": {}
        }
      ],
      "source": [
        "# Extract loss values\n",
        "loss_values = history_dict['loss']  # Training loss\n",
        "val_loss_values = history_dict['val_loss']  # Validation loss\n",
        "# Get the number of epochs\n",
        "epochs = range(1, len(loss_values) + 1)\n",
        "# Plot training and validation loss\n",
        "plt.plot(epochs, loss_values, 'g', label=\"Training Loss\")  # Green line for training loss\n",
        "plt.plot(epochs, val_loss_values, 'b', label=\"Validation Loss\")  # Blue line for validation loss\n",
        "# Formatting the plot\n",
        "plt.title('Training and Validation Loss')  # Title of the plot\n",
        "plt.xlabel('Epochs')  # X-axis label\n",
        "plt.ylabel('Loss Value')  # Y-axis label\n",
        "plt.legend()  # Show legend (Training Loss, Validation Loss)\n",
        "# Display the plot\n",
        "plt.show()"
      ]
    },
    {
      "cell_type": "code",
      "execution_count": 14,
      "metadata": {
        "colab": {
          "base_uri": "https://localhost:8080/",
          "height": 472
        },
        "id": "UlEtx9BxP20O",
        "outputId": "7e874470-dfcf-4b3a-966d-a080d1480e57"
      },
      "outputs": [
        {
          "output_type": "display_data",
          "data": {
            "text/plain": [
              "<Figure size 640x480 with 1 Axes>"
            ],
            "image/png": "[encoded data removed]"
          },
          "metadata": {}
        }
      ],
      "source": [
        "# Extract accuracy values\n",
        "acc_values = history_dict['binary_accuracy']  # Training accuracy\n",
        "val_acc_values = history_dict['val_binary_accuracy']  # Validation accuracy\n",
        "\n",
        "# Get the number of epochs\n",
        "epochs = range(1, len(acc_values) + 1)\n",
        "\n",
        "# Plot training and validation accuracy\n",
        "plt.plot(epochs, acc_values, 'g', label=\"Training Accuracy\")  # Green line for training accuracy\n",
        "plt.plot(epochs, val_acc_values, 'b', label=\"Validation Accuracy\")  # Blue line for validation accuracy\n",
        "\n",
        "# Formatting the plot\n",
        "plt.title('Training and Validation Accuracy')  # Title of the plot\n",
        "plt.xlabel('Epochs')  # X-axis label\n",
        "plt.ylabel('Accuracy')  # Y-axis label\n",
        "plt.legend()  # Show legend (Training Accuracy, Validation Accuracy)\n",
        "\n",
        "# Display the plot\n",
        "plt.show()"
      ]
    },
    {
      "cell_type": "code",
      "execution_count": 15,
      "metadata": {
        "colab": {
          "base_uri": "https://localhost:8080/"
        },
        "id": "HuCdm8fZQE4h",
        "outputId": "6d0ec95c-0e81-422c-da49-7c10b6266d9c"
      },
      "outputs": [
        {
          "output_type": "stream",
          "name": "stdout",
          "text": [
            "Epoch 1/3\n",
            "\u001b[1m30/30\u001b[0m \u001b[32m━━━━━━━━━━━━━━━━━━━━\u001b[0m\u001b[37m\u001b[0m \u001b[1m2s\u001b[0m 59ms/step - binary_accuracy: 0.9981 - loss: 0.0121 - val_binary_accuracy: 0.8608 - val_loss: 0.6253\n",
            "Epoch 2/3\n",
            "\u001b[1m30/30\u001b[0m \u001b[32m━━━━━━━━━━━━━━━━━━━━\u001b[0m\u001b[37m\u001b[0m \u001b[1m1s\u001b[0m 34ms/step - binary_accuracy: 0.9996 - loss: 0.0114 - val_binary_accuracy: 0.8643 - val_loss: 0.6353\n",
            "Epoch 3/3\n",
            "\u001b[1m30/30\u001b[0m \u001b[32m━━━━━━━━━━━━━━━━━━━━\u001b[0m\u001b[37m\u001b[0m \u001b[1m1s\u001b[0m 36ms/step - binary_accuracy: 0.9989 - loss: 0.0072 - val_binary_accuracy: 0.8707 - val_loss: 0.6428\n"
          ]
        }
      ],
      "source": [
        "# Retrain the model for only 3 epochs\n",
        "history = model.fit(\n",
        "    partial_X_train,  # Training data (excluding validation set)\n",
        "    partial_y_train,  # Training labels\n",
        "    epochs=3,  # Train for only 3 epochs\n",
        "    batch_size=512,  # Process 512 samples per batch\n",
        "    validation_data=(X_val, y_val)  # Validate using the validation set\n",
        ")"
      ]
    },
    {
      "cell_type": "code",
      "execution_count": 23,
      "metadata": {
        "colab": {
          "base_uri": "https://localhost:8080/"
        },
        "id": "7N0Pe-_eQM2J",
        "outputId": "941fc6fd-89f5-4fef-9c2e-9208ecb070dd"
      },
      "outputs": [
        {
          "output_type": "stream",
          "name": "stdout",
          "text": [
            "\u001b[1m782/782\u001b[0m \u001b[32m━━━━━━━━━━━━━━━━━━━━\u001b[0m\u001b[37m\u001b[0m \u001b[1m2s\u001b[0m 3ms/step\n"
          ]
        }
      ],
      "source": [
        "# Suppress scientific notation for better readability\n",
        "np.set_printoptions(suppress=True)\n",
        "# Make predictions on test data\n",
        "result = model.predict(X_test)"
      ]
    },
    {
      "cell_type": "code",
      "execution_count": 22,
      "metadata": {
        "colab": {
          "base_uri": "https://localhost:8080/"
        },
        "id": "WIL-jLXgQiZS",
        "outputId": "b2031999-6c9c-429c-d842-e41f43e12586"
      },
      "outputs": [
        {
          "output_type": "execute_result",
          "data": {
            "text/plain": [
              "array(<bound method TensorFlowTrainer.predict of <Sequential name=sequential, built=True>>,\n",
              "      dtype=object)"
            ]
          },
          "metadata": {},
          "execution_count": 22
        }
      ],
      "source": [
        "result"
      ]
    },
    {
      "cell_type": "code",
      "execution_count": 24,
      "metadata": {
        "colab": {
          "base_uri": "https://localhost:8080/"
        },
        "id": "7IOaHdq9QxDR",
        "outputId": "18578c36-161d-47a8-f637-9de81d2ed663"
      },
      "outputs": [
        {
          "output_type": "stream",
          "name": "stderr",
          "text": [
            "<ipython-input-24-f80b0c1c8a22>:5: DeprecationWarning: Conversion of an array with ndim > 0 to a scalar is deprecated, and will error in future. Ensure you extract a single element from your array before performing this operation. (Deprecated NumPy 1.25.)\n",
            "  y_pred[i] = np.round(score)\n"
          ]
        }
      ],
      "source": [
        "# Initialize an array of zeros to store predicted labels\n",
        "y_pred = np.zeros(len(result))\n",
        "# Convert probabilities to binary labels (0 or 1)\n",
        "for i, score in enumerate(result):\n",
        "    y_pred[i] = np.round(score)"
      ]
    },
    {
      "cell_type": "code",
      "execution_count": 25,
      "metadata": {
        "id": "MsQ0PblmQypM"
      },
      "outputs": [],
      "source": [
        "from sklearn import metrics\n",
        "# Compute Mean Absolute Error (MAE)\n",
        "mae = metrics.mean_absolute_error(y_test, y_pred)"
      ]
    },
    {
      "cell_type": "code",
      "execution_count": 26,
      "metadata": {
        "colab": {
          "base_uri": "https://localhost:8080/"
        },
        "id": "siIgcDn4RN94",
        "outputId": "037398de-5c1d-4c5a-9f90-82a95d2831eb"
      },
      "outputs": [
        {
          "output_type": "execute_result",
          "data": {
            "text/plain": [
              "0.14244"
            ]
          },
          "metadata": {},
          "execution_count": 26
        }
      ],
      "source": [
        "mae"
      ]
    },
    {
      "cell_type": "markdown",
      "metadata": {
        "id": "Eoj-ejheKxZ8"
      },
      "source": [
        "### **Theory:**\n",
        "\n",
        "Binary classification is a type of classification task where the goal is to classify input data into one of two classes. The most common examples of binary classification are tasks such as spam email detection, fraud detection, or medical diagnosis, where each instance is assigned one of two possible outcomes: class 0 or class 1. The task is to learn a decision boundary that best separates the two classes.\n",
        "\n",
        "In binary classification, a deep neural network (DNN) is often used to model the decision boundary. The DNN consists of multiple layers of neurons that learn complex patterns in the input data. The final layer of the network has a single neuron that outputs a probability, which is then mapped to a binary class label (0 or 1). This is achieved by applying an activation function like **sigmoid** to the output neuron.\n",
        "\n",
        "### **Key Concepts of Binary Classification Using DNN**\n",
        "\n",
        "1. **Neural Network Architecture:**\n",
        "   - A typical deep neural network for binary classification includes an **input layer**, one or more **hidden layers**, and an **output layer**.\n",
        "   - The **output layer** has a single neuron, as we only need to predict a single probability for classifying the input as either class 0 or class 1.\n",
        "   - The **hidden layers** consist of multiple neurons and apply activation functions like **ReLU** (Rectified Linear Unit) to introduce non-linearity, allowing the network to learn complex patterns.\n",
        "\n",
        "2. **Activation Functions:**\n",
        "   - For binary classification, the **output layer** uses the **sigmoid** activation function, which squashes the output value between 0 and 1. This output represents the probability of the input belonging to class 1.\n",
        "   - The **hidden layers** typically use **ReLU** or **tanh** to add non-linearity and enable the network to learn more complex patterns.\n",
        "\n",
        "3. **Model Learning:**\n",
        "   - The DNN is trained to learn the parameters (weights and biases) that minimize the loss function. For binary classification, the most commonly used loss function is **binary cross-entropy**.\n",
        "   - The binary cross-entropy loss function is defined as:\n",
        "\n",
        "      $L(y, \\hat{y}) = - [ y \\log(\\hat{y}) + (1 - y) \\log(1 - \\hat{y}) ]$\n",
        "\n",
        "     where \\( y \\) is the actual class label, and $\\hat{y}$ is the predicted probability.\n",
        "\n",
        "4. **Gradient Descent:**\n",
        "   - Like other neural networks, binary classification using DNNs relies on **gradient descent** (or its variants like Adam) to minimize the loss function. The gradients of the loss with respect to the model parameters are calculated and used to update the weights and biases during training.\n",
        "\n",
        "5. **Output Interpretation:**\n",
        "   - The output of the sigmoid function can be interpreted as the probability of the input belonging to class 1. If the output is greater than or equal to 0.5, the prediction is class 1; otherwise, it's class 0.\n",
        "\n",
        "### **Why Use DNN for Binary Classification?**\n",
        "Deep neural networks are particularly well-suited for binary classification tasks where the data has complex, high-dimensional relationships. The key advantages of using a DNN over traditional machine learning models like logistic regression are:\n",
        "\n",
        "Non-linear Decision Boundaries: DNNs can learn non-linear decision boundaries, allowing them to classify data that is not linearly separable.\n",
        "\n",
        "Feature Learning: The hidden layers in DNNs can automatically learn relevant features from raw data, reducing the need for manual feature engineering.\n",
        "\n",
        "Scalability: DNNs can handle large datasets with many features and learn from large-scale, complex datasets effectively."
      ]
    }
  ],
  "metadata": {
    "colab": {
      "provenance": []
    },
    "kernelspec": {
      "display_name": "Python 3",
      "name": "python3"
    },
    "language_info": {
      "name": "python"
    }
  },
  "nbformat": 4,
  "nbformat_minor": 0
}